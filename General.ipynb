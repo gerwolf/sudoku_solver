{
 "cells": [
  {
   "cell_type": "code",
   "execution_count": 34,
   "metadata": {},
   "outputs": [
    {
     "name": "stdout",
     "output_type": "stream",
     "text": [
      "C:\\Users\\wolfg\\Documents\\GitHub\\sudoku_solver\n"
     ]
    }
   ],
   "source": [
    "% cd C:\\Users\\wolfg\\Documents\\GitHub\\sudoku_solver\n",
    "\n",
    "from imutils.perspective import four_point_transform\n",
    "from imutils import contours\n",
    "import imutils\n",
    "import cv2\n",
    "import pytesseract\n",
    "import numpy as np\n",
    "import os\n",
    "import tensorflow as tf\n",
    "import keras\n",
    "loaded_model = keras.models.load_model('pretrained_MNIST_model.h5')"
   ]
  },
  {
   "cell_type": "code",
   "execution_count": 35,
   "metadata": {},
   "outputs": [],
   "source": [
    "image = cv2.imread(\"sudoku_2.png\")"
   ]
  },
  {
   "cell_type": "code",
   "execution_count": 36,
   "metadata": {},
   "outputs": [
    {
     "data": {
      "image/png": "[encoded data removed]",
      "text/plain": [
       "<IPython.core.display.Image object>"
      ]
     },
     "execution_count": 36,
     "metadata": {},
     "output_type": "execute_result"
    }
   ],
   "source": [
    "from IPython.display import Image\n",
    "Image(\"sudoku_2.png\")"
   ]
  },
  {
   "cell_type": "code",
   "execution_count": 37,
   "metadata": {},
   "outputs": [],
   "source": [
    "img = imutils.resize(image, height=1000)\n",
    "(thresh, img_bin) = cv2.threshold(img, 128, 255,cv2.THRESH_BINARY,cv2.THRESH_OTSU)\n",
    "img_bin = 255 - img_bin"
   ]
  },
  {
   "cell_type": "code",
   "execution_count": 38,
   "metadata": {},
   "outputs": [],
   "source": [
    "kernel_length = np.array(img).shape[1]//80\n",
    "verticle_kernel = cv2.getStructuringElement(cv2.MORPH_RECT, (1, kernel_length))\n",
    "hori_kernel = cv2.getStructuringElement(cv2.MORPH_RECT, (kernel_length, 1))\n",
    "kernel = cv2.getStructuringElement(cv2.MORPH_RECT, (3, 3))"
   ]
  },
  {
   "cell_type": "code",
   "execution_count": 39,
   "metadata": {},
   "outputs": [
    {
     "data": {
      "text/plain": [
       "True"
      ]
     },
     "execution_count": 39,
     "metadata": {},
     "output_type": "execute_result"
    }
   ],
   "source": [
    "img_temp1 = cv2.erode(img_bin, verticle_kernel, iterations=3)\n",
    "verticle_lines_img = cv2.dilate(img_temp1, verticle_kernel, iterations=3)\n",
    "cv2.imwrite(\"verticle_lines.jpg\",verticle_lines_img)\n",
    "img_temp2 = cv2.erode(img_bin, hori_kernel, iterations=3)\n",
    "horizontal_lines_img = cv2.dilate(img_temp2, hori_kernel, iterations=3)\n",
    "cv2.imwrite(\"horizontal_lines.jpg\",horizontal_lines_img)"
   ]
  },
  {
   "cell_type": "code",
   "execution_count": 40,
   "metadata": {},
   "outputs": [],
   "source": [
    "alpha = 0.5\n",
    "beta = 1.0 - alpha\n",
    "img_final_bin = cv2.addWeighted(verticle_lines_img, alpha, horizontal_lines_img, beta, 0.0)\n",
    "img_final_bin = cv2.erode(~img_final_bin, kernel, iterations=2)\n",
    "(thresh, img_final_bin) = cv2.threshold(img_final_bin, 128,255, cv2.THRESH_BINARY, cv2.THRESH_OTSU)\n",
    "cv2.imwrite(\"img_final_bin.jpg\",img_final_bin)\n",
    "img_final_bin = cv2.cvtColor(img_final_bin, cv2.COLOR_BGR2GRAY)\n",
    "img_final_bin.dtype\n",
    "contours, hierarchy = cv2.findContours(img_final_bin, cv2.RETR_TREE, cv2.CHAIN_APPROX_SIMPLE)"
   ]
  },
  {
   "cell_type": "code",
   "execution_count": 41,
   "metadata": {},
   "outputs": [
    {
     "data": {
      "text/plain": [
       "-1"
      ]
     },
     "execution_count": 41,
     "metadata": {},
     "output_type": "execute_result"
    }
   ],
   "source": [
    "cv2.drawContours(img, contours, -1, (0, 255, 0), 3)\n",
    "cv2.imshow('Contours', img) \n",
    "cv2.waitKey(0)"
   ]
  },
  {
   "cell_type": "code",
   "execution_count": 42,
   "metadata": {},
   "outputs": [
    {
     "name": "stdout",
     "output_type": "stream",
     "text": [
      "888 889 101 99\n",
      "Large contour detected: is 0\n",
      "948 918 10 47\n",
      "779 889 101 99\n",
      "Large contour detected: is 2\n",
      "809 911 43 10\n",
      "675 889 95 99\n",
      "Large contour detected: is 4\n",
      "561 889 96 99\n",
      "Large contour detected: is 5\n",
      "453 889 96 99\n",
      "Large contour detected: is 6\n",
      "343 889 96 99\n",
      "Large contour detected: is 7\n",
      "229 889 96 99\n",
      "Large contour detected: is 8\n",
      "120 889 100 99\n",
      "Large contour detected: is 9\n",
      "11 889 96 99\n",
      "Large contour detected: is 10\n",
      "675 783 95 97\n",
      "Large contour detected: is 11\n",
      "561 783 96 97\n",
      "Large contour detected: is 12\n",
      "615 805 11 55\n",
      "448 783 101 97\n",
      "Large contour detected: is 14\n",
      "493 804 15 61\n",
      "343 783 96 97\n",
      "Large contour detected: is 16\n",
      "368 804 47 61\n",
      "229 783 96 97\n",
      "Large contour detected: is 18\n",
      "120 783 100 97\n",
      "Large contour detected: is 19\n",
      "11 783 96 97\n",
      "Large contour detected: is 20\n",
      "888 780 101 100\n",
      "Large contour detected: is 21\n",
      "779 780 101 100\n",
      "Large contour detected: is 22\n",
      "888 675 101 96\n",
      "Large contour detected: is 23\n",
      "779 675 101 96\n",
      "Large contour detected: is 24\n",
      "675 675 95 96\n",
      "Large contour detected: is 25\n",
      "701 738 41 16\n",
      "561 675 96 96\n",
      "Large contour detected: is 27\n",
      "453 675 96 96\n",
      "Large contour detected: is 28\n",
      "343 675 96 96\n",
      "Large contour detected: is 29\n",
      "229 675 96 96\n",
      "Large contour detected: is 30\n",
      "120 675 101 96\n",
      "Large contour detected: is 31\n",
      "151 701 11 50\n",
      "11 675 96 96\n",
      "Large contour detected: is 33\n",
      "888 561 101 96\n",
      "Large contour detected: is 34\n",
      "919 591 41 47\n",
      "779 561 101 96\n",
      "Large contour detected: is 36\n",
      "675 561 95 96\n",
      "Large contour detected: is 37\n",
      "561 561 96 96\n",
      "Large contour detected: is 38\n",
      "453 561 96 96\n",
      "Large contour detected: is 39\n",
      "482 629 42 10\n",
      "343 561 96 96\n",
      "Large contour detected: is 41\n",
      "229 561 96 96\n",
      "Large contour detected: is 42\n",
      "120 561 100 96\n",
      "Large contour detected: is 43\n",
      "11 561 100 96\n",
      "Large contour detected: is 44\n",
      "41 579 42 11\n",
      "888 453 101 99\n",
      "Large contour detected: is 46\n",
      "933 473 15 61\n",
      "779 453 101 99\n",
      "Large contour detected: is 48\n",
      "675 453 95 99\n",
      "Large contour detected: is 49\n",
      "561 453 96 99\n",
      "Large contour detected: is 50\n",
      "453 453 96 99\n",
      "Large contour detected: is 51\n",
      "343 453 96 99\n",
      "Large contour detected: is 52\n",
      "375 473 9 42\n",
      "229 453 96 99\n",
      "Large contour detected: is 54\n",
      "120 453 100 99\n",
      "Large contour detected: is 55\n",
      "11 453 100 99\n",
      "Large contour detected: is 56\n",
      "41 473 47 60\n",
      "888 343 101 100\n",
      "Large contour detected: is 58\n",
      "779 343 101 100\n",
      "Large contour detected: is 59\n",
      "675 343 92 100\n",
      "Large contour detected: is 60\n",
      "561 343 96 100\n",
      "Large contour detected: is 61\n",
      "453 343 96 96\n",
      "Large contour detected: is 62\n",
      "479 368 15 56\n",
      "343 343 96 96\n",
      "Large contour detected: is 64\n",
      "229 343 96 96\n",
      "Large contour detected: is 65\n",
      "120 343 101 96\n",
      "Large contour detected: is 66\n",
      "11 343 96 96\n",
      "Large contour detected: is 67\n",
      "66 364 9 43\n",
      "888 234 101 91\n",
      "Large contour detected: is 69\n",
      "779 234 101 91\n",
      "Large contour detected: is 70\n",
      "811 259 10 51\n",
      "675 234 95 91\n",
      "Large contour detected: is 72\n",
      "561 234 96 91\n",
      "Large contour detected: is 73\n",
      "453 230 96 95\n",
      "Large contour detected: is 74\n",
      "343 230 96 95\n",
      "Large contour detected: is 75\n",
      "229 230 96 95\n",
      "Large contour detected: is 76\n",
      "120 230 101 95\n",
      "Large contour detected: is 77\n",
      "155 259 41 48\n",
      "11 230 100 95\n",
      "Large contour detected: is 79\n",
      "888 121 101 100\n",
      "Large contour detected: is 80\n",
      "779 121 101 100\n",
      "Large contour detected: is 81\n",
      "561 121 96 100\n",
      "Large contour detected: is 82\n",
      "453 121 96 100\n",
      "Large contour detected: is 83\n",
      "506 146 11 55\n",
      "675 120 95 101\n",
      "Large contour detected: is 85\n",
      "343 120 96 101\n",
      "Large contour detected: is 86\n",
      "383 141 15 66\n",
      "229 120 96 101\n",
      "Large contour detected: is 88\n",
      "120 120 101 101\n",
      "Large contour detected: is 89\n",
      "11 120 100 101\n",
      "Large contour detected: is 90\n",
      "42 151 12 50\n",
      "888 11 101 101\n",
      "Large contour detected: is 92\n",
      "779 11 101 101\n",
      "Large contour detected: is 93\n",
      "675 11 92 101\n",
      "Large contour detected: is 94\n",
      "561 11 96 101\n",
      "Large contour detected: is 95\n",
      "448 11 101 101\n",
      "Large contour detected: is 96\n",
      "482 29 42 15\n",
      "343 11 96 101\n",
      "Large contour detected: is 98\n",
      "229 11 96 101\n",
      "Large contour detected: is 99\n",
      "120 11 101 101\n",
      "Large contour detected: is 100\n",
      "151 79 41 10\n",
      "11 11 96 101\n",
      "Large contour detected: is 102\n",
      "81\n"
     ]
    },
    {
     "data": {
      "text/plain": [
       "-1"
      ]
     },
     "execution_count": 42,
     "metadata": {},
     "output_type": "execute_result"
    }
   ],
   "source": [
    "idx_list_big = []\n",
    "\n",
    "idx_big = 0\n",
    "idx_square = 1\n",
    "\n",
    "for c in contours:\n",
    "        # Returns the location and width,height for every contour\n",
    "        \n",
    "    \n",
    "    x, y, w, h = cv2.boundingRect(c)\n",
    "    \n",
    "    print(x,y,w,h)\n",
    "    \n",
    "    if (w > 80 and h > 80) and (w < 140 and h < 140):\n",
    "        \n",
    "        print(\"Large contour detected: is \" + str(idx_big))\n",
    "        \n",
    "        new_img = img[y:y+h, x:x+w]\n",
    "        cv2.imwrite('square_' + str(10-idx_square) + '.png', new_img)\n",
    "        \n",
    "        idx_list_big.append(idx_big)\n",
    "        \n",
    "        idx_square += 1\n",
    "        \n",
    "        \n",
    "\n",
    "    idx_big += 1\n",
    "\n",
    "c = [contours[i] for i in idx_list_big]\n",
    "print(len(c))\n",
    "\n",
    "cv2.drawContours(img, c, -1, (0, 255, 0), 3)\n",
    "cv2.imshow('Contours', img) \n",
    "cv2.waitKey(0)"
   ]
  },
  {
   "cell_type": "code",
   "execution_count": 43,
   "metadata": {},
   "outputs": [
    {
     "data": {
      "text/plain": [
       "['square_-1.png',\n",
       " 'square_-10.png',\n",
       " 'square_-11.png',\n",
       " 'square_-12.png',\n",
       " 'square_-13.png',\n",
       " 'square_-14.png',\n",
       " 'square_-15.png',\n",
       " 'square_-16.png',\n",
       " 'square_-17.png',\n",
       " 'square_-18.png',\n",
       " 'square_-19.png',\n",
       " 'square_-2.png',\n",
       " 'square_-20.png',\n",
       " 'square_-21.png',\n",
       " 'square_-22.png',\n",
       " 'square_-23.png',\n",
       " 'square_-24.png',\n",
       " 'square_-25.png',\n",
       " 'square_-26.png',\n",
       " 'square_-27.png',\n",
       " 'square_-28.png',\n",
       " 'square_-29.png',\n",
       " 'square_-3.png',\n",
       " 'square_-30.png',\n",
       " 'square_-31.png',\n",
       " 'square_-32.png',\n",
       " 'square_-33.png',\n",
       " 'square_-34.png',\n",
       " 'square_-35.png',\n",
       " 'square_-36.png',\n",
       " 'square_-37.png',\n",
       " 'square_-38.png',\n",
       " 'square_-39.png',\n",
       " 'square_-4.png',\n",
       " 'square_-40.png',\n",
       " 'square_-41.png',\n",
       " 'square_-42.png',\n",
       " 'square_-43.png',\n",
       " 'square_-44.png',\n",
       " 'square_-45.png',\n",
       " 'square_-46.png',\n",
       " 'square_-47.png',\n",
       " 'square_-48.png',\n",
       " 'square_-49.png',\n",
       " 'square_-5.png',\n",
       " 'square_-50.png',\n",
       " 'square_-51.png',\n",
       " 'square_-52.png',\n",
       " 'square_-53.png',\n",
       " 'square_-54.png',\n",
       " 'square_-55.png',\n",
       " 'square_-56.png',\n",
       " 'square_-57.png',\n",
       " 'square_-58.png',\n",
       " 'square_-59.png',\n",
       " 'square_-6.png',\n",
       " 'square_-60.png',\n",
       " 'square_-61.png',\n",
       " 'square_-62.png',\n",
       " 'square_-63.png',\n",
       " 'square_-64.png',\n",
       " 'square_-65.png',\n",
       " 'square_-66.png',\n",
       " 'square_-67.png',\n",
       " 'square_-68.png',\n",
       " 'square_-69.png',\n",
       " 'square_-7.png',\n",
       " 'square_-70.png',\n",
       " 'square_-71.png',\n",
       " 'square_-8.png',\n",
       " 'square_-9.png',\n",
       " 'square_0.png',\n",
       " 'square_1.png',\n",
       " 'square_2.png',\n",
       " 'square_3.png',\n",
       " 'square_4.png',\n",
       " 'square_5.png',\n",
       " 'square_6.png',\n",
       " 'square_7.png',\n",
       " 'square_8.png',\n",
       " 'square_9.png']"
      ]
     },
     "execution_count": 43,
     "metadata": {},
     "output_type": "execute_result"
    }
   ],
   "source": [
    "all_squares = []\n",
    "\n",
    "for square in os.listdir():\n",
    "    if square.endswith(\".png\") and square.startswith('square'):\n",
    "        \n",
    "        file_name = os.path.join(square)\n",
    "        \n",
    "        all_squares.append(file_name)\n",
    "        \n",
    "all_squares"
   ]
  },
  {
   "cell_type": "code",
   "execution_count": 31,
   "metadata": {},
   "outputs": [
    {
     "name": "stdout",
     "output_type": "stream",
     "text": [
      "square_-1.png\n",
      "C:\\Users\\wolfg\\Documents\\GitHub\\sudoku_solver\\1\n",
      "square_-10.png\n",
      "C:\\Users\\wolfg\\Documents\\GitHub\\sudoku_solver\\1\n",
      "square_-11.png\n",
      "C:\\Users\\wolfg\\Documents\\GitHub\\sudoku_solver\\1\n",
      "square_-12.png\n",
      "C:\\Users\\wolfg\\Documents\\GitHub\\sudoku_solver\\1\n",
      "square_-13.png\n",
      "C:\\Users\\wolfg\\Documents\\GitHub\\sudoku_solver\\1\n",
      "square_-14.png\n",
      "C:\\Users\\wolfg\\Documents\\GitHub\\sudoku_solver\\1\n",
      "square_-15.png\n",
      "C:\\Users\\wolfg\\Documents\\GitHub\\sudoku_solver\\1\n",
      "square_-16.png\n",
      "C:\\Users\\wolfg\\Documents\\GitHub\\sudoku_solver\\1\n",
      "square_-17.png\n",
      "C:\\Users\\wolfg\\Documents\\GitHub\\sudoku_solver\\1\n",
      "square_-18.png\n",
      "C:\\Users\\wolfg\\Documents\\GitHub\\sudoku_solver\\1\n",
      "square_-19.png\n",
      "C:\\Users\\wolfg\\Documents\\GitHub\\sudoku_solver\\1\n",
      "square_-2.png\n",
      "C:\\Users\\wolfg\\Documents\\GitHub\\sudoku_solver\\2\n",
      "square_-20.png\n",
      "C:\\Users\\wolfg\\Documents\\GitHub\\sudoku_solver\\2\n",
      "square_-21.png\n",
      "C:\\Users\\wolfg\\Documents\\GitHub\\sudoku_solver\\2\n",
      "square_-22.png\n",
      "C:\\Users\\wolfg\\Documents\\GitHub\\sudoku_solver\\2\n",
      "square_-23.png\n",
      "C:\\Users\\wolfg\\Documents\\GitHub\\sudoku_solver\\2\n",
      "square_-24.png\n",
      "C:\\Users\\wolfg\\Documents\\GitHub\\sudoku_solver\\2\n",
      "square_-25.png\n",
      "C:\\Users\\wolfg\\Documents\\GitHub\\sudoku_solver\\2\n",
      "square_-26.png\n",
      "C:\\Users\\wolfg\\Documents\\GitHub\\sudoku_solver\\2\n",
      "square_-27.png\n",
      "C:\\Users\\wolfg\\Documents\\GitHub\\sudoku_solver\\2\n",
      "square_-28.png\n",
      "C:\\Users\\wolfg\\Documents\\GitHub\\sudoku_solver\\2\n",
      "square_-29.png\n",
      "C:\\Users\\wolfg\\Documents\\GitHub\\sudoku_solver\\2\n",
      "square_-3.png\n",
      "C:\\Users\\wolfg\\Documents\\GitHub\\sudoku_solver\\3\n",
      "square_-30.png\n",
      "C:\\Users\\wolfg\\Documents\\GitHub\\sudoku_solver\\3\n",
      "square_-31.png\n",
      "C:\\Users\\wolfg\\Documents\\GitHub\\sudoku_solver\\3\n",
      "square_-32.png\n",
      "C:\\Users\\wolfg\\Documents\\GitHub\\sudoku_solver\\3\n",
      "square_-33.png\n",
      "C:\\Users\\wolfg\\Documents\\GitHub\\sudoku_solver\\3\n",
      "square_-34.png\n",
      "C:\\Users\\wolfg\\Documents\\GitHub\\sudoku_solver\\3\n",
      "square_-35.png\n",
      "C:\\Users\\wolfg\\Documents\\GitHub\\sudoku_solver\\3\n",
      "square_-36.png\n",
      "C:\\Users\\wolfg\\Documents\\GitHub\\sudoku_solver\\3\n",
      "square_-37.png\n",
      "C:\\Users\\wolfg\\Documents\\GitHub\\sudoku_solver\\3\n",
      "square_-38.png\n",
      "C:\\Users\\wolfg\\Documents\\GitHub\\sudoku_solver\\3\n",
      "square_-39.png\n",
      "C:\\Users\\wolfg\\Documents\\GitHub\\sudoku_solver\\3\n",
      "square_-4.png\n",
      "C:\\Users\\wolfg\\Documents\\GitHub\\sudoku_solver\\4\n",
      "square_-40.png\n",
      "C:\\Users\\wolfg\\Documents\\GitHub\\sudoku_solver\\4\n",
      "square_-41.png\n",
      "C:\\Users\\wolfg\\Documents\\GitHub\\sudoku_solver\\4\n",
      "square_-42.png\n",
      "C:\\Users\\wolfg\\Documents\\GitHub\\sudoku_solver\\4\n",
      "square_-43.png\n",
      "C:\\Users\\wolfg\\Documents\\GitHub\\sudoku_solver\\4\n",
      "square_-44.png\n",
      "C:\\Users\\wolfg\\Documents\\GitHub\\sudoku_solver\\4\n",
      "square_-45.png\n",
      "C:\\Users\\wolfg\\Documents\\GitHub\\sudoku_solver\\4\n",
      "square_-46.png\n",
      "C:\\Users\\wolfg\\Documents\\GitHub\\sudoku_solver\\4\n",
      "square_-47.png\n",
      "C:\\Users\\wolfg\\Documents\\GitHub\\sudoku_solver\\4\n",
      "square_-48.png\n",
      "C:\\Users\\wolfg\\Documents\\GitHub\\sudoku_solver\\4\n",
      "square_-49.png\n",
      "C:\\Users\\wolfg\\Documents\\GitHub\\sudoku_solver\\4\n",
      "square_-5.png\n",
      "C:\\Users\\wolfg\\Documents\\GitHub\\sudoku_solver\\5\n",
      "square_-50.png\n",
      "C:\\Users\\wolfg\\Documents\\GitHub\\sudoku_solver\\5\n",
      "square_-51.png\n",
      "C:\\Users\\wolfg\\Documents\\GitHub\\sudoku_solver\\5\n",
      "square_-52.png\n",
      "C:\\Users\\wolfg\\Documents\\GitHub\\sudoku_solver\\5\n",
      "square_-53.png\n",
      "C:\\Users\\wolfg\\Documents\\GitHub\\sudoku_solver\\5\n",
      "square_-54.png\n",
      "C:\\Users\\wolfg\\Documents\\GitHub\\sudoku_solver\\5\n",
      "square_-55.png\n",
      "C:\\Users\\wolfg\\Documents\\GitHub\\sudoku_solver\\5\n",
      "square_-56.png\n",
      "C:\\Users\\wolfg\\Documents\\GitHub\\sudoku_solver\\5\n",
      "square_-57.png\n",
      "C:\\Users\\wolfg\\Documents\\GitHub\\sudoku_solver\\5\n",
      "square_-58.png\n",
      "C:\\Users\\wolfg\\Documents\\GitHub\\sudoku_solver\\5\n",
      "square_-59.png\n",
      "C:\\Users\\wolfg\\Documents\\GitHub\\sudoku_solver\\5\n",
      "square_-6.png\n",
      "C:\\Users\\wolfg\\Documents\\GitHub\\sudoku_solver\\6\n",
      "square_-60.png\n",
      "C:\\Users\\wolfg\\Documents\\GitHub\\sudoku_solver\\6\n",
      "square_-61.png\n",
      "C:\\Users\\wolfg\\Documents\\GitHub\\sudoku_solver\\6\n",
      "square_-62.png\n",
      "C:\\Users\\wolfg\\Documents\\GitHub\\sudoku_solver\\6\n",
      "square_-63.png\n",
      "C:\\Users\\wolfg\\Documents\\GitHub\\sudoku_solver\\6\n",
      "square_-64.png\n",
      "C:\\Users\\wolfg\\Documents\\GitHub\\sudoku_solver\\6\n",
      "square_-65.png\n",
      "C:\\Users\\wolfg\\Documents\\GitHub\\sudoku_solver\\6\n",
      "square_-66.png\n",
      "C:\\Users\\wolfg\\Documents\\GitHub\\sudoku_solver\\6\n",
      "square_-67.png\n",
      "C:\\Users\\wolfg\\Documents\\GitHub\\sudoku_solver\\6\n",
      "square_-68.png\n",
      "C:\\Users\\wolfg\\Documents\\GitHub\\sudoku_solver\\6\n",
      "square_-69.png\n",
      "C:\\Users\\wolfg\\Documents\\GitHub\\sudoku_solver\\6\n",
      "square_-7.png\n",
      "C:\\Users\\wolfg\\Documents\\GitHub\\sudoku_solver\\7\n",
      "square_-70.png\n",
      "C:\\Users\\wolfg\\Documents\\GitHub\\sudoku_solver\\7\n",
      "square_-71.png\n",
      "C:\\Users\\wolfg\\Documents\\GitHub\\sudoku_solver\\7\n",
      "square_-8.png\n",
      "C:\\Users\\wolfg\\Documents\\GitHub\\sudoku_solver\\8\n",
      "square_-9.png\n",
      "C:\\Users\\wolfg\\Documents\\GitHub\\sudoku_solver\\9\n",
      "square_0.png\n",
      "C:\\Users\\wolfg\\Documents\\GitHub\\sudoku_solver\\0\n",
      "square_1.png\n",
      "C:\\Users\\wolfg\\Documents\\GitHub\\sudoku_solver\\1\n",
      "square_2.png\n",
      "C:\\Users\\wolfg\\Documents\\GitHub\\sudoku_solver\\2\n",
      "square_3.png\n",
      "C:\\Users\\wolfg\\Documents\\GitHub\\sudoku_solver\\3\n",
      "square_4.png\n",
      "C:\\Users\\wolfg\\Documents\\GitHub\\sudoku_solver\\4\n",
      "square_5.png\n",
      "C:\\Users\\wolfg\\Documents\\GitHub\\sudoku_solver\\5\n",
      "square_6.png\n",
      "C:\\Users\\wolfg\\Documents\\GitHub\\sudoku_solver\\6\n",
      "square_7.png\n",
      "C:\\Users\\wolfg\\Documents\\GitHub\\sudoku_solver\\7\n",
      "square_8.png\n",
      "C:\\Users\\wolfg\\Documents\\GitHub\\sudoku_solver\\8\n",
      "square_9.png\n",
      "C:\\Users\\wolfg\\Documents\\GitHub\\sudoku_solver\\9\n"
     ]
    }
   ],
   "source": [
    "for square in all_squares:\n",
    "    \n",
    "    print(square)\n",
    "    \n",
    "    single_chars = [char for char in square] \n",
    "    \n",
    "    square_no = [int(s) for s in single_chars if s.isdigit()][0]\n",
    "    \n",
    "    newpath = 'C:\\\\Users\\\\wolfg\\\\Documents\\\\GitHub\\\\sudoku_solver\\\\' + str(square_no)\n",
    "    \n",
    "    print(newpath)"
   ]
  },
  {
   "cell_type": "code",
   "execution_count": 67,
   "metadata": {},
   "outputs": [],
   "source": [
    "non_empty_list = []\n",
    "\n",
    "idx = 0\n",
    "\n",
    "for img in all_squares:\n",
    "    \n",
    "    image = cv2.imread(img)\n",
    "    image = cv2.cvtColor(image, cv2.COLOR_BGR2GRAY)\n",
    "    contours, hierarchy = cv2.findContours(image, cv2.RETR_TREE, cv2.CHAIN_APPROX_SIMPLE)\n",
    "    \n",
    "    if len(contours) != 1:\n",
    "        \n",
    "        non_empty_list.append(idx)\n",
    "        \n",
    "    idx += 1"
   ]
  },
  {
   "cell_type": "code",
   "execution_count": 68,
   "metadata": {},
   "outputs": [],
   "source": [
    "non_empty_images = [all_squares[i] for i in non_empty_list]"
   ]
  },
  {
   "cell_type": "code",
   "execution_count": 71,
   "metadata": {},
   "outputs": [
    {
     "name": "stdout",
     "output_type": "stream",
     "text": [
      "square_-1.png 9\n",
      "square_-10.png 8\n",
      "square_-11.png 2\n",
      "square_-16.png 5\n",
      "square_-18.png 5\n",
      "square_-2.png 1\n",
      "square_-22.png 2\n",
      "square_-26.png 7\n",
      "square_-27.png 1\n",
      "square_-3.png 4\n",
      "square_-30.png 3\n",
      "square_-32.png 8\n",
      "square_-35.png 4\n",
      "square_-36.png 3\n",
      "square_-40.png 5\n",
      "square_-44.png 8\n",
      "square_-46.png 5\n",
      "square_-51.png 8\n",
      "square_-52.png 9\n",
      "square_-56.png 5\n",
      "square_-57.png 9\n",
      "square_-59.png 1\n",
      "square_-62.png 5\n",
      "square_-67.png 1\n",
      "square_-7.png 5\n",
      "square_-70.png 3\n",
      "square_-71.png 5\n",
      "square_5.png 8\n",
      "square_8.png 7\n",
      "square_9.png 9\n"
     ]
    }
   ],
   "source": [
    "predictions = []\n",
    "    \n",
    "for idex, img in enumerate(non_empty_images):\n",
    "    \n",
    "        # file = 'C:/Users/wolfg/Documents/GitHub/sudoku_solver/' + img\n",
    "        \n",
    "    image = cv2.imread(img, cv2.IMREAD_GRAYSCALE)\n",
    "    image = cv2.resize(image, (28, 28))\n",
    "    image = image.astype('float32')\n",
    "    image = image.reshape(1, 28, 28, 1)\n",
    "    image = 255-image\n",
    "    image /= 255\n",
    "    pred = loaded_model.predict(image.reshape(1, 28, 28, 1), batch_size=1)\n",
    "        # print(img + \" is a predicted: \" + str(pred.argmax()))\n",
    "        \n",
    "    predictions.append(pred.argmax())\n",
    "    \n",
    "    print(img, pred.argmax())"
   ]
  },
  {
   "cell_type": "code",
   "execution_count": null,
   "metadata": {},
   "outputs": [],
   "source": []
  },
  {
   "cell_type": "code",
   "execution_count": null,
   "metadata": {},
   "outputs": [],
   "source": []
  },
  {
   "cell_type": "code",
   "execution_count": null,
   "metadata": {},
   "outputs": [],
   "source": []
  },
  {
   "cell_type": "code",
   "execution_count": 32,
   "metadata": {},
   "outputs": [
    {
     "ename": "IndexError",
     "evalue": "index 9 is out of bounds for axis 0 with size 9",
     "output_type": "error",
     "traceback": [
      "\u001b[1;31m---------------------------------------------------------------------------\u001b[0m",
      "\u001b[1;31mIndexError\u001b[0m                                Traceback (most recent call last)",
      "\u001b[1;32m<ipython-input-32-787b43a84c1d>\u001b[0m in \u001b[0;36m<module>\u001b[1;34m()\u001b[0m\n\u001b[0;32m    153\u001b[0m \u001b[1;32mfor\u001b[0m \u001b[0midx\u001b[0m\u001b[1;33m,\u001b[0m\u001b[0mi\u001b[0m \u001b[1;32min\u001b[0m \u001b[0menumerate\u001b[0m\u001b[1;33m(\u001b[0m\u001b[0msquares_container\u001b[0m\u001b[1;33m)\u001b[0m\u001b[1;33m:\u001b[0m\u001b[1;33m\u001b[0m\u001b[0m\n\u001b[0;32m    154\u001b[0m \u001b[1;33m\u001b[0m\u001b[0m\n\u001b[1;32m--> 155\u001b[1;33m     \u001b[0multra_matrix\u001b[0m\u001b[1;33m[\u001b[0m\u001b[0midx\u001b[0m\u001b[1;33m]\u001b[0m \u001b[1;33m=\u001b[0m \u001b[0mi\u001b[0m\u001b[1;33m\u001b[0m\u001b[0m\n\u001b[0m",
      "\u001b[1;31mIndexError\u001b[0m: index 9 is out of bounds for axis 0 with size 9"
     ]
    }
   ],
   "source": [
    "squares_container = []\n",
    "\n",
    "parent_path = 'C:\\\\Users\\\\wolfg\\\\Documents\\\\GitHub\\\\sudoku_solver'\n",
    "\n",
    "for square in all_squares:\n",
    "    \n",
    "    single_chars = [char for char in square] \n",
    "    \n",
    "    square_no = [int(s) for s in single_chars if s.isdigit()][0]\n",
    "\n",
    "    target_path = 'C:\\\\Users\\\\wolfg\\\\Documents\\\\GitHub\\\\sudoku_solver\\\\square_' + str(square_no)\n",
    "    \n",
    "    if not os.path.exists(target_path):\n",
    "        \n",
    "        os.makedirs(target_path)\n",
    "    \n",
    "    img_number = square_no\n",
    "\n",
    "    im = cv2.imread(square)\n",
    "    im = cv2.resize(im,(600,600))\n",
    "\n",
    "    image_prefix = str(img_number) + \"-\"\n",
    "\n",
    "    imgheight=im.shape[0]\n",
    "    imgwidth=im.shape[1]\n",
    "\n",
    "    y1 = 0\n",
    "    M = int(imgheight*1/3)\n",
    "    N = int(imgwidth*1/3)\n",
    "\n",
    "    os.chdir(target_path)\n",
    "    \n",
    "    for y in range(0,imgheight,M):\n",
    "        \n",
    "        for x in range(0, imgwidth, N):\n",
    "            y1 = y + M\n",
    "            x1 = x + N\n",
    "            tiles = im[y:y+M,x:x+N]\n",
    "\n",
    "            cv2.rectangle(im, (x, y), (x1, y1), (0, 255, 0))\n",
    "            cv2.imwrite(image_prefix + str(x) + '_' + str(y)+\".png\",tiles)\n",
    "\n",
    "    all_png = []\n",
    "\n",
    "    for file in os.listdir():\n",
    "        if file.endswith(\".png\") and file.startswith(image_prefix):\n",
    "        \n",
    "            file_name = os.path.join(file)\n",
    "        \n",
    "            all_png.append(file_name)\n",
    "        \n",
    "    idx = 0\n",
    "\n",
    "    non_empty_list = []\n",
    "\n",
    "    for img in all_png:\n",
    "    \n",
    "        image = cv2.imread(img)\n",
    "        image = cv2.cvtColor(image, cv2.COLOR_BGR2GRAY)\n",
    "        contours, hierarchy = cv2.findContours(image, cv2.RETR_TREE, cv2.CHAIN_APPROX_SIMPLE)\n",
    "    \n",
    "        if len(contours) != 1:\n",
    "        \n",
    "            non_empty_list.append(idx)\n",
    "        \n",
    "        idx += 1\n",
    "    \n",
    "    # print(img, len(contours))\n",
    "    \n",
    "    non_empty_images = [all_png[i] for i in non_empty_list]\n",
    "\n",
    "    empty_images = [i for i in all_png if i not in non_empty_images]\n",
    "\n",
    "    for empty_image in empty_images:\n",
    "    \n",
    "         os.remove(empty_image)\n",
    "        \n",
    "    non_empty_indices = [i for i, e in enumerate(all_png) if e in non_empty_images]\n",
    "    \n",
    "    empty_indices = [i for i, e in enumerate(all_png) if e in empty_images]\n",
    "    \n",
    "#     orig = np.zeros(9)\n",
    "    \n",
    "#     for non_empty in non_empty_indices:\n",
    "    \n",
    "#         orig[non_empty] = 1\n",
    "        \n",
    "#     for empty in empty_indices:\n",
    "        \n",
    "#         orig[empty] = np.NaN\n",
    "        \n",
    "    # orig = orig.reshape(3,3).T\n",
    "    \n",
    "    index_list = []\n",
    "\n",
    "    ax = 0\n",
    "\n",
    "    for i in range(9):\n",
    "    \n",
    "        if i in non_empty_indices:\n",
    "        \n",
    "            mark = ax\n",
    "        \n",
    "            ax += 1\n",
    "        \n",
    "        else:\n",
    "        \n",
    "            mark = np.NaN\n",
    "        \n",
    "        index_list.append(mark)\n",
    "        \n",
    "    predictions = []\n",
    "    \n",
    "    for idex, img in enumerate(non_empty_images):\n",
    "    \n",
    "        # file = 'C:/Users/wolfg/Documents/GitHub/sudoku_solver/' + img\n",
    "        \n",
    "        image = cv2.imread(img, cv2.IMREAD_GRAYSCALE)\n",
    "        image = cv2.resize(image, (28, 28))\n",
    "        image = image.astype('float32')\n",
    "        image = image.reshape(1, 28, 28, 1)\n",
    "        image = 255-image\n",
    "        image /= 255\n",
    "        pred = loaded_model.predict(image.reshape(1, 28, 28, 1), batch_size=1)\n",
    "        # print(img + \" is a predicted: \" + str(pred.argmax()))\n",
    "        \n",
    "        predictions.append(pred.argmax())\n",
    "        \n",
    "    final_mat = np.zeros(9)\n",
    "\n",
    "    true_counter = 0\n",
    "\n",
    "    for idex, i in enumerate(index_list):\n",
    "    \n",
    "        if type(i) == int:\n",
    "    \n",
    "            final_mat[idex] = predictions[true_counter]\n",
    "        \n",
    "            true_counter += 1\n",
    "        \n",
    "        elif type(i) == float:\n",
    "        \n",
    "            final_mat[idex] = np.NaN\n",
    "            \n",
    "    final_mat = final_mat.reshape(3,3)\n",
    "    \n",
    "    squares_container.append(final_mat)              \n",
    "                    \n",
    "    os.chdir(parent_path)\n",
    "    \n",
    "ultra_matrix = np.zeros((9, 3, 3))\n",
    "\n",
    "for idx,i in enumerate(squares_container):\n",
    "    \n",
    "    ultra_matrix[idx] = i "
   ]
  },
  {
   "cell_type": "code",
   "execution_count": 755,
   "metadata": {},
   "outputs": [],
   "source": [
    "column_1 = np.zeros(9)\n",
    "column_2 = np.zeros(9)\n",
    "column_3 = np.zeros(9)\n",
    "column_4 = np.zeros(9)\n",
    "column_5 = np.zeros(9)\n",
    "column_6 = np.zeros(9)\n",
    "column_7 = np.zeros(9)\n",
    "column_8 = np.zeros(9)\n",
    "column_9 = np.zeros(9)\n",
    "\n",
    "column_1[0] = ultra_matrix.transpose(0,1,2)[0][0][0]\n",
    "column_1[1] = ultra_matrix.transpose(0,1,2)[0][0][1]\n",
    "column_1[2] = ultra_matrix.transpose(0,1,2)[0][0][2]\n",
    "column_1[3] = ultra_matrix.transpose(0,1,2)[3][0][0]\n",
    "column_1[4] = ultra_matrix.transpose(0,1,2)[3][0][1]\n",
    "column_1[5] = ultra_matrix.transpose(0,1,2)[3][0][2]\n",
    "column_1[6] = ultra_matrix.transpose(0,1,2)[6][0][0]\n",
    "column_1[7] = ultra_matrix.transpose(0,1,2)[6][0][1]\n",
    "column_1[8] = ultra_matrix.transpose(0,1,2)[6][0][2]\n",
    "\n",
    "column_2[0] = ultra_matrix.transpose(0,1,2)[0][1][0]\n",
    "column_2[1] = ultra_matrix.transpose(0,1,2)[0][1][1]\n",
    "column_2[2] = ultra_matrix.transpose(0,1,2)[0][1][2]\n",
    "column_2[3] = ultra_matrix.transpose(0,1,2)[3][1][0]\n",
    "column_2[4] = ultra_matrix.transpose(0,1,2)[3][1][1]\n",
    "column_2[5] = ultra_matrix.transpose(0,1,2)[3][1][2]\n",
    "column_2[6] = ultra_matrix.transpose(0,1,2)[6][1][0]\n",
    "column_2[7] = ultra_matrix.transpose(0,1,2)[6][1][1]\n",
    "column_2[8] = ultra_matrix.transpose(0,1,2)[6][1][2]\n",
    "\n",
    "column_3[0] = ultra_matrix.transpose(0,1,2)[0][2][0]\n",
    "column_3[1] = ultra_matrix.transpose(0,1,2)[0][2][1]\n",
    "column_3[2] = ultra_matrix.transpose(0,1,2)[0][2][2]\n",
    "column_3[3] = ultra_matrix.transpose(0,1,2)[3][2][0]\n",
    "column_3[4] = ultra_matrix.transpose(0,1,2)[3][2][1]\n",
    "column_3[5] = ultra_matrix.transpose(0,1,2)[3][2][2]\n",
    "column_3[6] = ultra_matrix.transpose(0,1,2)[6][2][0]\n",
    "column_3[7] = ultra_matrix.transpose(0,1,2)[6][2][1]\n",
    "column_3[8] = ultra_matrix.transpose(0,1,2)[6][2][2]\n",
    "\n",
    "column_4[0] = ultra_matrix.transpose(0,1,2)[1][0][0]\n",
    "column_4[1] = ultra_matrix.transpose(0,1,2)[1][0][1]\n",
    "column_4[2] = ultra_matrix.transpose(0,1,2)[1][0][2]\n",
    "column_4[3] = ultra_matrix.transpose(0,1,2)[4][0][0]\n",
    "column_4[4] = ultra_matrix.transpose(0,1,2)[4][0][1]\n",
    "column_4[5] = ultra_matrix.transpose(0,1,2)[4][0][2]\n",
    "column_4[6] = ultra_matrix.transpose(0,1,2)[7][0][0]\n",
    "column_4[7] = ultra_matrix.transpose(0,1,2)[7][0][1]\n",
    "column_4[8] = ultra_matrix.transpose(0,1,2)[7][0][2]\n",
    "\n",
    "column_5[0] = ultra_matrix.transpose(0,1,2)[1][1][0]\n",
    "column_5[1] = ultra_matrix.transpose(0,1,2)[1][1][1]\n",
    "column_5[2] = ultra_matrix.transpose(0,1,2)[1][1][2]\n",
    "column_5[3] = ultra_matrix.transpose(0,1,2)[4][1][0]\n",
    "column_5[4] = ultra_matrix.transpose(0,1,2)[4][1][1]\n",
    "column_5[5] = ultra_matrix.transpose(0,1,2)[4][1][2]\n",
    "column_5[6] = ultra_matrix.transpose(0,1,2)[7][1][0]\n",
    "column_5[7] = ultra_matrix.transpose(0,1,2)[7][1][1]\n",
    "column_5[8] = ultra_matrix.transpose(0,1,2)[7][1][2]\n",
    "\n",
    "column_6[0] = ultra_matrix.transpose(0,1,2)[1][2][0]\n",
    "column_6[1] = ultra_matrix.transpose(0,1,2)[1][2][1]\n",
    "column_6[2] = ultra_matrix.transpose(0,1,2)[1][2][2]\n",
    "column_6[3] = ultra_matrix.transpose(0,1,2)[4][2][0]\n",
    "column_6[4] = ultra_matrix.transpose(0,1,2)[4][2][1]\n",
    "column_6[5] = ultra_matrix.transpose(0,1,2)[4][2][2]\n",
    "column_6[6] = ultra_matrix.transpose(0,1,2)[7][2][0]\n",
    "column_6[7] = ultra_matrix.transpose(0,1,2)[7][2][1]\n",
    "column_6[8] = ultra_matrix.transpose(0,1,2)[7][2][2]\n",
    "\n",
    "column_7[0] = ultra_matrix.transpose(0,1,2)[2][0][0]\n",
    "column_7[1] = ultra_matrix.transpose(0,1,2)[2][0][1]\n",
    "column_7[2] = ultra_matrix.transpose(0,1,2)[2][0][2]\n",
    "column_7[3] = ultra_matrix.transpose(0,1,2)[5][0][0]\n",
    "column_7[4] = ultra_matrix.transpose(0,1,2)[5][0][1]\n",
    "column_7[5] = ultra_matrix.transpose(0,1,2)[5][0][2]\n",
    "column_7[6] = ultra_matrix.transpose(0,1,2)[8][0][0]\n",
    "column_7[7] = ultra_matrix.transpose(0,1,2)[8][0][1]\n",
    "column_7[8] = ultra_matrix.transpose(0,1,2)[8][0][2]\n",
    "\n",
    "column_8[0] = ultra_matrix.transpose(0,1,2)[2][1][0]\n",
    "column_8[1] = ultra_matrix.transpose(0,1,2)[2][1][1]\n",
    "column_8[2] = ultra_matrix.transpose(0,1,2)[2][1][2]\n",
    "column_8[3] = ultra_matrix.transpose(0,1,2)[5][1][0]\n",
    "column_8[4] = ultra_matrix.transpose(0,1,2)[5][1][1]\n",
    "column_8[5] = ultra_matrix.transpose(0,1,2)[5][1][2]\n",
    "column_8[6] = ultra_matrix.transpose(0,1,2)[8][1][0]\n",
    "column_8[7] = ultra_matrix.transpose(0,1,2)[8][1][1]\n",
    "column_8[8] = ultra_matrix.transpose(0,1,2)[8][1][2]\n",
    "\n",
    "column_9[0] = ultra_matrix.transpose(0,1,2)[2][2][0]\n",
    "column_9[1] = ultra_matrix.transpose(0,1,2)[2][2][1]\n",
    "column_9[2] = ultra_matrix.transpose(0,1,2)[2][2][2]\n",
    "column_9[3] = ultra_matrix.transpose(0,1,2)[5][2][0]\n",
    "column_9[4] = ultra_matrix.transpose(0,1,2)[5][2][1]\n",
    "column_9[5] = ultra_matrix.transpose(0,1,2)[5][2][2]\n",
    "column_9[6] = ultra_matrix.transpose(0,1,2)[8][2][0]\n",
    "column_9[7] = ultra_matrix.transpose(0,1,2)[8][2][1]\n",
    "column_9[8] = ultra_matrix.transpose(0,1,2)[8][2][2]"
   ]
  },
  {
   "cell_type": "code",
   "execution_count": 756,
   "metadata": {},
   "outputs": [],
   "source": [
    "stacked = np.stack((column_1, column_2, column_3, column_4, column_5, column_6, column_7, column_8, column_9), axis=-1)"
   ]
  },
  {
   "cell_type": "code",
   "execution_count": 757,
   "metadata": {},
   "outputs": [],
   "source": [
    "df = pd.DataFrame(data=stacked)"
   ]
  },
  {
   "cell_type": "code",
   "execution_count": 758,
   "metadata": {},
   "outputs": [
    {
     "data": {
      "text/html": [
       "<div>\n",
       "<style scoped>\n",
       "    .dataframe tbody tr th:only-of-type {\n",
       "        vertical-align: middle;\n",
       "    }\n",
       "\n",
       "    .dataframe tbody tr th {\n",
       "        vertical-align: top;\n",
       "    }\n",
       "\n",
       "    .dataframe thead th {\n",
       "        text-align: right;\n",
       "    }\n",
       "</style>\n",
       "<table border=\"1\" class=\"dataframe\">\n",
       "  <thead>\n",
       "    <tr style=\"text-align: right;\">\n",
       "      <th></th>\n",
       "      <th>0</th>\n",
       "      <th>1</th>\n",
       "      <th>2</th>\n",
       "      <th>3</th>\n",
       "      <th>4</th>\n",
       "      <th>5</th>\n",
       "      <th>6</th>\n",
       "      <th>7</th>\n",
       "      <th>8</th>\n",
       "    </tr>\n",
       "  </thead>\n",
       "  <tbody>\n",
       "    <tr>\n",
       "      <th>0</th>\n",
       "      <td>NaN</td>\n",
       "      <td>3.0</td>\n",
       "      <td>NaN</td>\n",
       "      <td>NaN</td>\n",
       "      <td>NaN</td>\n",
       "      <td>NaN</td>\n",
       "      <td>NaN</td>\n",
       "      <td>NaN</td>\n",
       "      <td>NaN</td>\n",
       "    </tr>\n",
       "    <tr>\n",
       "      <th>1</th>\n",
       "      <td>NaN</td>\n",
       "      <td>NaN</td>\n",
       "      <td>NaN</td>\n",
       "      <td>1.0</td>\n",
       "      <td>9.0</td>\n",
       "      <td>5.0</td>\n",
       "      <td>NaN</td>\n",
       "      <td>NaN</td>\n",
       "      <td>NaN</td>\n",
       "    </tr>\n",
       "    <tr>\n",
       "      <th>2</th>\n",
       "      <td>NaN</td>\n",
       "      <td>NaN</td>\n",
       "      <td>8.0</td>\n",
       "      <td>NaN</td>\n",
       "      <td>NaN</td>\n",
       "      <td>NaN</td>\n",
       "      <td>NaN</td>\n",
       "      <td>5.0</td>\n",
       "      <td>NaN</td>\n",
       "    </tr>\n",
       "    <tr>\n",
       "      <th>3</th>\n",
       "      <td>8.0</td>\n",
       "      <td>NaN</td>\n",
       "      <td>NaN</td>\n",
       "      <td>NaN</td>\n",
       "      <td>6.0</td>\n",
       "      <td>NaN</td>\n",
       "      <td>NaN</td>\n",
       "      <td>NaN</td>\n",
       "      <td>NaN</td>\n",
       "    </tr>\n",
       "    <tr>\n",
       "      <th>4</th>\n",
       "      <td>4.0</td>\n",
       "      <td>NaN</td>\n",
       "      <td>NaN</td>\n",
       "      <td>8.0</td>\n",
       "      <td>NaN</td>\n",
       "      <td>NaN</td>\n",
       "      <td>NaN</td>\n",
       "      <td>NaN</td>\n",
       "      <td>1.0</td>\n",
       "    </tr>\n",
       "    <tr>\n",
       "      <th>5</th>\n",
       "      <td>NaN</td>\n",
       "      <td>NaN</td>\n",
       "      <td>NaN</td>\n",
       "      <td>NaN</td>\n",
       "      <td>2.0</td>\n",
       "      <td>NaN</td>\n",
       "      <td>NaN</td>\n",
       "      <td>NaN</td>\n",
       "      <td>NaN</td>\n",
       "    </tr>\n",
       "    <tr>\n",
       "      <th>6</th>\n",
       "      <td>NaN</td>\n",
       "      <td>6.0</td>\n",
       "      <td>NaN</td>\n",
       "      <td>NaN</td>\n",
       "      <td>NaN</td>\n",
       "      <td>NaN</td>\n",
       "      <td>2.0</td>\n",
       "      <td>8.0</td>\n",
       "      <td>NaN</td>\n",
       "    </tr>\n",
       "    <tr>\n",
       "      <th>7</th>\n",
       "      <td>NaN</td>\n",
       "      <td>NaN</td>\n",
       "      <td>NaN</td>\n",
       "      <td>4.0</td>\n",
       "      <td>1.0</td>\n",
       "      <td>9.0</td>\n",
       "      <td>NaN</td>\n",
       "      <td>NaN</td>\n",
       "      <td>5.0</td>\n",
       "    </tr>\n",
       "    <tr>\n",
       "      <th>8</th>\n",
       "      <td>NaN</td>\n",
       "      <td>NaN</td>\n",
       "      <td>NaN</td>\n",
       "      <td>NaN</td>\n",
       "      <td>NaN</td>\n",
       "      <td>NaN</td>\n",
       "      <td>NaN</td>\n",
       "      <td>7.0</td>\n",
       "      <td>NaN</td>\n",
       "    </tr>\n",
       "  </tbody>\n",
       "</table>\n",
       "</div>"
      ],
      "text/plain": [
       "     0    1    2    3    4    5    6    7    8\n",
       "0  NaN  3.0  NaN  NaN  NaN  NaN  NaN  NaN  NaN\n",
       "1  NaN  NaN  NaN  1.0  9.0  5.0  NaN  NaN  NaN\n",
       "2  NaN  NaN  8.0  NaN  NaN  NaN  NaN  5.0  NaN\n",
       "3  8.0  NaN  NaN  NaN  6.0  NaN  NaN  NaN  NaN\n",
       "4  4.0  NaN  NaN  8.0  NaN  NaN  NaN  NaN  1.0\n",
       "5  NaN  NaN  NaN  NaN  2.0  NaN  NaN  NaN  NaN\n",
       "6  NaN  6.0  NaN  NaN  NaN  NaN  2.0  8.0  NaN\n",
       "7  NaN  NaN  NaN  4.0  1.0  9.0  NaN  NaN  5.0\n",
       "8  NaN  NaN  NaN  NaN  NaN  NaN  NaN  7.0  NaN"
      ]
     },
     "execution_count": 758,
     "metadata": {},
     "output_type": "execute_result"
    }
   ],
   "source": [
    "df"
   ]
  },
  {
   "cell_type": "code",
   "execution_count": null,
   "metadata": {},
   "outputs": [],
   "source": []
  },
  {
   "cell_type": "code",
   "execution_count": null,
   "metadata": {},
   "outputs": [],
   "source": []
  },
  {
   "cell_type": "code",
   "execution_count": null,
   "metadata": {},
   "outputs": [],
   "source": []
  },
  {
   "cell_type": "code",
   "execution_count": null,
   "metadata": {},
   "outputs": [],
   "source": []
  },
  {
   "cell_type": "code",
   "execution_count": null,
   "metadata": {},
   "outputs": [],
   "source": []
  },
  {
   "cell_type": "code",
   "execution_count": null,
   "metadata": {},
   "outputs": [],
   "source": []
  },
  {
   "cell_type": "code",
   "execution_count": null,
   "metadata": {},
   "outputs": [],
   "source": []
  },
  {
   "cell_type": "code",
   "execution_count": null,
   "metadata": {},
   "outputs": [],
   "source": []
  },
  {
   "cell_type": "code",
   "execution_count": null,
   "metadata": {},
   "outputs": [],
   "source": []
  },
  {
   "cell_type": "code",
   "execution_count": null,
   "metadata": {},
   "outputs": [],
   "source": []
  },
  {
   "cell_type": "code",
   "execution_count": null,
   "metadata": {},
   "outputs": [],
   "source": []
  },
  {
   "cell_type": "code",
   "execution_count": null,
   "metadata": {},
   "outputs": [],
   "source": []
  },
  {
   "cell_type": "code",
   "execution_count": null,
   "metadata": {},
   "outputs": [],
   "source": []
  },
  {
   "cell_type": "code",
   "execution_count": null,
   "metadata": {},
   "outputs": [],
   "source": []
  },
  {
   "cell_type": "code",
   "execution_count": null,
   "metadata": {},
   "outputs": [],
   "source": []
  },
  {
   "cell_type": "code",
   "execution_count": null,
   "metadata": {},
   "outputs": [],
   "source": []
  },
  {
   "cell_type": "code",
   "execution_count": null,
   "metadata": {},
   "outputs": [],
   "source": []
  },
  {
   "cell_type": "code",
   "execution_count": null,
   "metadata": {},
   "outputs": [],
   "source": []
  },
  {
   "cell_type": "code",
   "execution_count": null,
   "metadata": {},
   "outputs": [],
   "source": []
  },
  {
   "cell_type": "code",
   "execution_count": 102,
   "metadata": {},
   "outputs": [
    {
     "data": {
      "text/plain": [
       "1"
      ]
     },
     "execution_count": 102,
     "metadata": {},
     "output_type": "execute_result"
    }
   ],
   "source": [
    "# from PIL import Image\n",
    "# column = Image.open('1.png')\n",
    "# gray = column.convert('L')\n",
    "# blackwhite = gray.point(lambda x: 0 if x < 200 else 255, '1')\n",
    "# blackwhite.save(\"1_bw.png\")"
   ]
  },
  {
   "cell_type": "code",
   "execution_count": null,
   "metadata": {},
   "outputs": [],
   "source": []
  },
  {
   "cell_type": "code",
   "execution_count": null,
   "metadata": {},
   "outputs": [],
   "source": []
  },
  {
   "cell_type": "code",
   "execution_count": null,
   "metadata": {},
   "outputs": [],
   "source": []
  },
  {
   "cell_type": "code",
   "execution_count": null,
   "metadata": {},
   "outputs": [],
   "source": []
  },
  {
   "cell_type": "code",
   "execution_count": null,
   "metadata": {},
   "outputs": [],
   "source": []
  },
  {
   "cell_type": "code",
   "execution_count": null,
   "metadata": {},
   "outputs": [],
   "source": []
  },
  {
   "cell_type": "code",
   "execution_count": null,
   "metadata": {},
   "outputs": [],
   "source": []
  },
  {
   "cell_type": "code",
   "execution_count": null,
   "metadata": {},
   "outputs": [],
   "source": []
  },
  {
   "cell_type": "code",
   "execution_count": null,
   "metadata": {},
   "outputs": [],
   "source": [
    "from torchvision import models\n",
    "import torch\n",
    " \n",
    "dir(models)"
   ]
  },
  {
   "cell_type": "code",
   "execution_count": 403,
   "metadata": {},
   "outputs": [
    {
     "name": "stderr",
     "output_type": "stream",
     "text": [
      "Downloading: \"https://download.pytorch.org/models/alexnet-owt-4df8aa71.pth\" to C:\\Users\\wolfg/.torch\\models\\alexnet-owt-4df8aa71.pth\n",
      "100%|███████████████████████████████████████████████████████████████| 244418560/244418560 [03:00<00:00, 1356233.82it/s]\n"
     ]
    }
   ],
   "source": [
    "alexnet = models.alexnet(pretrained=True)"
   ]
  },
  {
   "cell_type": "code",
   "execution_count": 404,
   "metadata": {},
   "outputs": [],
   "source": [
    "from torchvision import transforms\n",
    "transform = transforms.Compose([            #[1]\n",
    " transforms.Resize(256),                    #[2]\n",
    " transforms.CenterCrop(224),                #[3]\n",
    " transforms.ToTensor(),                     #[4]\n",
    " transforms.Normalize(                      #[5]\n",
    " mean=[0.485, 0.456, 0.406],                #[6]\n",
    " std=[0.229, 0.224, 0.225]                  #[7]\n",
    " )])"
   ]
  },
  {
   "cell_type": "code",
   "execution_count": null,
   "metadata": {},
   "outputs": [],
   "source": [
    "# Import Pillow\n",
    "from PIL import Image\n",
    "img = Image.open(\"43.png\")"
   ]
  },
  {
   "cell_type": "code",
   "execution_count": 406,
   "metadata": {},
   "outputs": [
    {
     "data": {
      "image/png": "[encoded data removed]",
      "text/plain": [
       "<PIL.PngImagePlugin.PngImageFile image mode=RGB size=161x155 at 0x251D11B74A8>"
      ]
     },
     "execution_count": 406,
     "metadata": {},
     "output_type": "execute_result"
    }
   ],
   "source": [
    "img"
   ]
  },
  {
   "cell_type": "code",
   "execution_count": null,
   "metadata": {},
   "outputs": [],
   "source": [
    "img_t = transform(img)\n",
    "batch_t = torch.unsqueeze(img_t, 0)"
   ]
  },
  {
   "cell_type": "code",
   "execution_count": 408,
   "metadata": {},
   "outputs": [
    {
     "data": {
      "text/plain": [
       "AlexNet(\n",
       "  (features): Sequential(\n",
       "    (0): Conv2d(3, 64, kernel_size=(11, 11), stride=(4, 4), padding=(2, 2))\n",
       "    (1): ReLU(inplace)\n",
       "    (2): MaxPool2d(kernel_size=3, stride=2, padding=0, dilation=1, ceil_mode=False)\n",
       "    (3): Conv2d(64, 192, kernel_size=(5, 5), stride=(1, 1), padding=(2, 2))\n",
       "    (4): ReLU(inplace)\n",
       "    (5): MaxPool2d(kernel_size=3, stride=2, padding=0, dilation=1, ceil_mode=False)\n",
       "    (6): Conv2d(192, 384, kernel_size=(3, 3), stride=(1, 1), padding=(1, 1))\n",
       "    (7): ReLU(inplace)\n",
       "    (8): Conv2d(384, 256, kernel_size=(3, 3), stride=(1, 1), padding=(1, 1))\n",
       "    (9): ReLU(inplace)\n",
       "    (10): Conv2d(256, 256, kernel_size=(3, 3), stride=(1, 1), padding=(1, 1))\n",
       "    (11): ReLU(inplace)\n",
       "    (12): MaxPool2d(kernel_size=3, stride=2, padding=0, dilation=1, ceil_mode=False)\n",
       "  )\n",
       "  (classifier): Sequential(\n",
       "    (0): Dropout(p=0.5)\n",
       "    (1): Linear(in_features=9216, out_features=4096, bias=True)\n",
       "    (2): ReLU(inplace)\n",
       "    (3): Dropout(p=0.5)\n",
       "    (4): Linear(in_features=4096, out_features=4096, bias=True)\n",
       "    (5): ReLU(inplace)\n",
       "    (6): Linear(in_features=4096, out_features=1000, bias=True)\n",
       "  )\n",
       ")"
      ]
     },
     "execution_count": 408,
     "metadata": {},
     "output_type": "execute_result"
    }
   ],
   "source": [
    "alexnet.eval()"
   ]
  },
  {
   "cell_type": "code",
   "execution_count": 409,
   "metadata": {},
   "outputs": [
    {
     "name": "stdout",
     "output_type": "stream",
     "text": [
      "torch.Size([1, 1000])\n"
     ]
    }
   ],
   "source": [
    "out = alexnet(batch_t)\n",
    "print(out.shape)"
   ]
  },
  {
   "cell_type": "code",
   "execution_count": null,
   "metadata": {},
   "outputs": [],
   "source": []
  },
  {
   "cell_type": "code",
   "execution_count": null,
   "metadata": {},
   "outputs": [],
   "source": []
  },
  {
   "cell_type": "code",
   "execution_count": 401,
   "metadata": {},
   "outputs": [],
   "source": [
    "# from PIL import Image\n",
    "# column = Image.open('43.png')\n",
    "# gray = column.convert('L')\n",
    "# blackwhite = gray.point(lambda x: 0 if x < 200 else 255, '1')\n",
    "# blackwhite.save(\"43_bw.png\")"
   ]
  },
  {
   "cell_type": "code",
   "execution_count": 371,
   "metadata": {},
   "outputs": [
    {
     "data": {
      "text/plain": [
       "-1"
      ]
     },
     "execution_count": 371,
     "metadata": {},
     "output_type": "execute_result"
    }
   ],
   "source": []
  },
  {
   "cell_type": "code",
   "execution_count": 359,
   "metadata": {},
   "outputs": [
    {
     "name": "stdout",
     "output_type": "stream",
     "text": [
      "0 1 1 501 498\n",
      "1 244 470 5 5\n",
      "2 247 463 5 5\n",
      "3 251 450 4 8\n",
      "4 254 440 5 5\n",
      "5 257 437 5 5\n",
      "6 258 427 4 5\n",
      "7 264 414 4 5\n",
      "8 274 395 4 4\n",
      "9 247 388 9 5\n",
      "10 238 388 8 5\n",
      "11 260 385 12 5\n",
      "12 254 385 5 5\n",
      "13 437 303 5 5\n",
      "14 460 287 4 5\n",
      "15 460 267 4 5\n",
      "16 453 257 5 5\n",
      "17 453 251 5 5\n",
      "18 447 251 4 4\n",
      "19 434 248 8 4\n",
      "20 411 247 8 8\n",
      "21 411 231 8 5\n",
      "22 411 221 8 9\n",
      "23 430 212 5 4\n",
      "24 420 212 9 4\n",
      "25 87 127 5 4\n",
      "26 74 126 9 5\n",
      "27 91 124 5 4\n",
      "28 81 124 5 4\n",
      "29 61 124 5 7\n",
      "30 271 117 4 5\n",
      "31 225 107 4 5\n",
      "32 277 101 5 5\n",
      "33 231 87 5 5\n",
      "34 254 78 8 4\n",
      "35 244 78 5 4\n",
      "36 91 77 4 6\n",
      "37 231 71 5 5\n",
      "38 97 68 5 8\n",
      "39 100 58 5 5\n",
      "40 238 39 4 4\n",
      "41 87 39 5 4\n",
      "42 257 35 5 5\n",
      "43 244 35 5 5\n",
      "44 65 35 5 5\n"
     ]
    }
   ],
   "source": [
    "height = []\n",
    "width = []\n",
    "idx_liste = []\n",
    "\n",
    "idx = 0\n",
    "\n",
    "for i in contours:\n",
    "    \n",
    "    x, y, w, h = cv2.boundingRect(i)\n",
    "    \n",
    "    # print(idx, x, y, w, h)\n",
    "    \n",
    "    idx += 1"
   ]
  },
  {
   "cell_type": "code",
   "execution_count": null,
   "metadata": {},
   "outputs": [],
   "source": []
  },
  {
   "cell_type": "code",
   "execution_count": null,
   "metadata": {},
   "outputs": [],
   "source": []
  },
  {
   "cell_type": "code",
   "execution_count": 358,
   "metadata": {},
   "outputs": [
    {
     "data": {
      "text/plain": [
       "45"
      ]
     },
     "execution_count": 358,
     "metadata": {},
     "output_type": "execute_result"
    }
   ],
   "source": []
  },
  {
   "cell_type": "code",
   "execution_count": 328,
   "metadata": {},
   "outputs": [
    {
     "data": {
      "text/plain": [
       "-1"
      ]
     },
     "execution_count": 328,
     "metadata": {},
     "output_type": "execute_result"
    }
   ],
   "source": [
    "gray = cv2.cvtColor(img_final_bin, cv2.COLOR_BGR2GRAY)\n",
    "edges = cv2.Canny(gray, 75, 200)\n",
    "\n",
    "(thresh, img_bin) = cv2.threshold(edges, 128, 255,cv2.THRESH_BINARY,cv2.THRESH_OTSU)\n",
    "img_bin = 255 - img_bin\n",
    "\n",
    "contours, hierarchy = cv2.findContours(img_bin, cv2.RETR_TREE, cv2.CHAIN_APPROX_SIMPLE)\n",
    "\n",
    "height = []\n",
    "width = []\n",
    "idx_liste = []\n",
    "\n",
    "idx = 0\n",
    "\n",
    "for i in contours:\n",
    "    \n",
    "    x, y, w, h = cv2.boundingRect(i)\n",
    "    \n",
    "    if h > 100:\n",
    "    \n",
    "        idx_liste.append(idx)\n",
    "    \n",
    "        width.append(w)\n",
    "        height.append(h)\n",
    "    \n",
    "    #print(idx,x,y,w,h)\n",
    "    \n",
    "    idx += 1\n",
    "\n",
    "c = [contours[i] for i in idx_liste]\n",
    "\n",
    "cv2.drawContours(sub_img, c[0], -1, (255, 255, 255), 3)\n",
    "cv2.imshow('Contours', sub_img) \n",
    "cv2.waitKey(0)"
   ]
  },
  {
   "cell_type": "code",
   "execution_count": 327,
   "metadata": {},
   "outputs": [
    {
     "data": {
      "text/plain": [
       "21"
      ]
     },
     "execution_count": 327,
     "metadata": {},
     "output_type": "execute_result"
    }
   ],
   "source": []
  },
  {
   "cell_type": "code",
   "execution_count": 293,
   "metadata": {},
   "outputs": [
    {
     "data": {
      "text/plain": [
       "-1"
      ]
     },
     "execution_count": 293,
     "metadata": {},
     "output_type": "execute_result"
    }
   ],
   "source": [
    "# cv2.imshow('Contours', edges) \n",
    "# cv2.waitKey(0)"
   ]
  },
  {
   "cell_type": "code",
   "execution_count": null,
   "metadata": {},
   "outputs": [],
   "source": []
  },
  {
   "cell_type": "code",
   "execution_count": 311,
   "metadata": {},
   "outputs": [
    {
     "data": {
      "text/plain": [
       "-1"
      ]
     },
     "execution_count": 311,
     "metadata": {},
     "output_type": "execute_result"
    }
   ],
   "source": []
  },
  {
   "cell_type": "code",
   "execution_count": 306,
   "metadata": {},
   "outputs": [
    {
     "data": {
      "text/plain": [
       "-1"
      ]
     },
     "execution_count": 306,
     "metadata": {},
     "output_type": "execute_result"
    }
   ],
   "source": [
    "cv2.imshow('Contours', sub_img) \n",
    "cv2.waitKey(0)"
   ]
  },
  {
   "cell_type": "code",
   "execution_count": null,
   "metadata": {},
   "outputs": [],
   "source": []
  },
  {
   "cell_type": "code",
   "execution_count": null,
   "metadata": {},
   "outputs": [],
   "source": []
  },
  {
   "cell_type": "code",
   "execution_count": 273,
   "metadata": {},
   "outputs": [
    {
     "data": {
      "text/plain": [
       "407"
      ]
     },
     "execution_count": 273,
     "metadata": {},
     "output_type": "execute_result"
    }
   ],
   "source": []
  },
  {
   "cell_type": "code",
   "execution_count": 272,
   "metadata": {},
   "outputs": [
    {
     "data": {
      "text/plain": [
       "(0, 0, 503, 500)"
      ]
     },
     "execution_count": 272,
     "metadata": {},
     "output_type": "execute_result"
    }
   ],
   "source": [
    "cv2.boundingRect(contours[0])"
   ]
  },
  {
   "cell_type": "code",
   "execution_count": 270,
   "metadata": {},
   "outputs": [
    {
     "data": {
      "text/plain": [
       "-1"
      ]
     },
     "execution_count": 270,
     "metadata": {},
     "output_type": "execute_result"
    }
   ],
   "source": [
    "cv2.drawContours(sub_img, contours[0], -1, (0, 255, 0), 3)\n",
    "cv2.imshow('Contours', sub_img) \n",
    "cv2.waitKey(0)"
   ]
  },
  {
   "cell_type": "code",
   "execution_count": 268,
   "metadata": {},
   "outputs": [
    {
     "name": "stdout",
     "output_type": "stream",
     "text": [
      "Large contour detected: is 394\n",
      "Large contour detected: is 398\n"
     ]
    },
    {
     "data": {
      "text/plain": [
       "-1"
      ]
     },
     "execution_count": 268,
     "metadata": {},
     "output_type": "execute_result"
    }
   ],
   "source": [
    "idx_list = []\n",
    "\n",
    "idx = 0\n",
    "for c in contours:\n",
    "        # Returns the location and width,height for every contour\n",
    "        \n",
    "    \n",
    "    x, y, w, h = cv2.boundingRect(c)\n",
    "    \n",
    "    if (w > 130 and h > 150) and (w < 160 and h < 160):\n",
    "        \n",
    "        print(\"Large contour detected: is \" + str(idx))\n",
    "        \n",
    "        new_img = img[y:y+h, x:x+w]\n",
    "        cv2.imwrite(str(idx) + '.png', new_img)\n",
    "        \n",
    "        idx_list.append(idx)\n",
    "\n",
    "    idx += 1\n",
    "    \n",
    "# c = [contours[i] for i in idx_list]"
   ]
  },
  {
   "cell_type": "code",
   "execution_count": 255,
   "metadata": {},
   "outputs": [
    {
     "name": "stdout",
     "output_type": "stream",
     "text": [
      "Large contour detected: is 394\n",
      "Large contour detected: is 398\n"
     ]
    },
    {
     "data": {
      "text/plain": [
       "-1"
      ]
     },
     "execution_count": 255,
     "metadata": {},
     "output_type": "execute_result"
    }
   ],
   "source": []
  },
  {
   "cell_type": "code",
   "execution_count": 246,
   "metadata": {},
   "outputs": [],
   "source": []
  },
  {
   "cell_type": "code",
   "execution_count": null,
   "metadata": {},
   "outputs": [],
   "source": [
    "idx_list = []\n",
    "\n",
    "idx = 0\n",
    "for c in contours:\n",
    "        # Returns the location and width,height for every contour\n",
    "        \n",
    "    \n",
    "    x, y, w, h = cv2.boundingRect(c)\n",
    "    \n",
    "    # print(idx,x,y,w,h)\n",
    "    \n",
    "    if (w > 150 and h > 150) and (w < 160 and h < 160):\n",
    "        \n",
    "        print(\"Large contour detected: is \" + str(idx))\n",
    "        \n",
    "        new_img = img[y:y+h, x:x+w]\n",
    "        cv2.imwrite(str(idx) + '.png', new_img)\n",
    "        \n",
    "        idx_list.append(idx)\n",
    "\n",
    "    idx += 1\n",
    "\n",
    "print(len(idx_list))\n",
    "\n",
    "c = [ contours[i] for i in idx_list]\n",
    "\n",
    "cv2.drawContours(img, c, -1, (0, 255, 0), 3)\n",
    "cv2.imshow('Contours', img) \n",
    "cv2.waitKey(0)"
   ]
  },
  {
   "cell_type": "code",
   "execution_count": null,
   "metadata": {},
   "outputs": [],
   "source": []
  },
  {
   "cell_type": "code",
   "execution_count": null,
   "metadata": {},
   "outputs": [],
   "source": []
  },
  {
   "cell_type": "code",
   "execution_count": null,
   "metadata": {},
   "outputs": [],
   "source": []
  },
  {
   "cell_type": "code",
   "execution_count": 228,
   "metadata": {},
   "outputs": [
    {
     "data": {
      "text/plain": [
       "True"
      ]
     },
     "execution_count": 228,
     "metadata": {},
     "output_type": "execute_result"
    }
   ],
   "source": []
  },
  {
   "cell_type": "code",
   "execution_count": 227,
   "metadata": {},
   "outputs": [
    {
     "data": {
      "text/plain": [
       "-1"
      ]
     },
     "execution_count": 227,
     "metadata": {},
     "output_type": "execute_result"
    }
   ],
   "source": [
    "cv2.imshow('Contours', img_bin) \n",
    "cv2.waitKey(0)"
   ]
  },
  {
   "cell_type": "code",
   "execution_count": 193,
   "metadata": {},
   "outputs": [
    {
     "data": {
      "text/plain": [
       "-1"
      ]
     },
     "execution_count": 193,
     "metadata": {},
     "output_type": "execute_result"
    }
   ],
   "source": []
  },
  {
   "cell_type": "code",
   "execution_count": 186,
   "metadata": {},
   "outputs": [
    {
     "name": "stdout",
     "output_type": "stream",
     "text": [
      "3 3 497 494\n"
     ]
    }
   ],
   "source": [
    "x, y, w, h = cv2.boundingRect(contours[0])\n",
    "print(x,y,w,h)"
   ]
  },
  {
   "cell_type": "code",
   "execution_count": 187,
   "metadata": {},
   "outputs": [],
   "source": [
    "?cv2.drawContours"
   ]
  },
  {
   "cell_type": "code",
   "execution_count": null,
   "metadata": {},
   "outputs": [],
   "source": []
  },
  {
   "cell_type": "code",
   "execution_count": null,
   "metadata": {},
   "outputs": [],
   "source": []
  },
  {
   "cell_type": "code",
   "execution_count": 139,
   "metadata": {},
   "outputs": [
    {
     "name": "stdout",
     "output_type": "stream",
     "text": [
      "4\n",
      "102\n",
      "111\n",
      "133\n",
      "46\n",
      "33\n",
      "147\n"
     ]
    }
   ],
   "source": [
    "for i in contours:\n",
    "    \n",
    "    print (len(i))"
   ]
  },
  {
   "cell_type": "code",
   "execution_count": 13,
   "metadata": {},
   "outputs": [
    {
     "name": "stdout",
     "output_type": "stream",
     "text": [
      "0 4 4 293 292\n",
      "1 127 219 41 62\n",
      "2 231 120 43 64\n",
      "3 125 19 45 64\n",
      "4 138 56 19 17\n",
      "5 139 30 17 15\n",
      "6 27 19 41 64\n",
      "0\n"
     ]
    },
    {
     "data": {
      "text/plain": [
       "-1"
      ]
     },
     "execution_count": 13,
     "metadata": {},
     "output_type": "execute_result"
    }
   ],
   "source": [
    "idx_list = []\n",
    "\n",
    "idx = 0\n",
    "for c in contours:\n",
    "        # Returns the location and width,height for every contour\n",
    "        \n",
    "    \n",
    "    x, y, w, h = cv2.boundingRect(c)\n",
    "    \n",
    "    print(idx,x,y,w,h)\n",
    "    \n",
    "    if (w > 150 and h > 150) and (w < 160 and h < 160):\n",
    "        \n",
    "        print(\"Large contour detected: is \" + str(idx))\n",
    "        \n",
    "        new_img = img[y:y+h, x:x+w]\n",
    "        cv2.imwrite(str(idx) + '.png', new_img)\n",
    "        \n",
    "        idx_list.append(idx)\n",
    "\n",
    "    idx += 1\n",
    "\n",
    "print(len(idx_list))\n",
    "\n",
    "c = [ contours[i] for i in idx_list]\n",
    "\n",
    "cv2.drawContours(img, c, -1, (0, 255, 0), 3)\n",
    "cv2.imshow('Contours', img) \n",
    "cv2.waitKey(0) "
   ]
  },
  {
   "cell_type": "code",
   "execution_count": null,
   "metadata": {},
   "outputs": [],
   "source": []
  },
  {
   "cell_type": "code",
   "execution_count": null,
   "metadata": {},
   "outputs": [],
   "source": []
  },
  {
   "cell_type": "code",
   "execution_count": null,
   "metadata": {},
   "outputs": [],
   "source": []
  },
  {
   "cell_type": "code",
   "execution_count": null,
   "metadata": {},
   "outputs": [],
   "source": []
  },
  {
   "cell_type": "code",
   "execution_count": null,
   "metadata": {},
   "outputs": [],
   "source": []
  },
  {
   "cell_type": "code",
   "execution_count": 75,
   "metadata": {},
   "outputs": [
    {
     "ename": "error",
     "evalue": "OpenCV(4.2.0) C:\\projects\\opencv-python\\opencv\\modules\\imgproc\\src\\contours.cpp:197: error: (-210:Unsupported format or combination of formats) [Start]FindContours supports only CV_8UC1 images when mode != CV_RETR_FLOODFILL otherwise supports CV_32SC1 images only in function 'cvStartFindContours_Impl'\n",
     "output_type": "error",
     "traceback": [
      "\u001b[1;31m---------------------------------------------------------------------------\u001b[0m",
      "\u001b[1;31merror\u001b[0m                                     Traceback (most recent call last)",
      "\u001b[1;32m<ipython-input-75-2a203fec5c57>\u001b[0m in \u001b[0;36m<module>\u001b[1;34m()\u001b[0m\n\u001b[0;32m      1\u001b[0m \u001b[0mimg_bin\u001b[0m \u001b[1;33m=\u001b[0m \u001b[1;36m255\u001b[0m \u001b[1;33m-\u001b[0m \u001b[0mimg_bin\u001b[0m\u001b[1;33m\u001b[0m\u001b[0m\n\u001b[0;32m      2\u001b[0m \u001b[1;33m\u001b[0m\u001b[0m\n\u001b[1;32m----> 3\u001b[1;33m \u001b[0msub_contours\u001b[0m\u001b[1;33m,\u001b[0m \u001b[0msub_hierarchy\u001b[0m \u001b[1;33m=\u001b[0m \u001b[0mcv2\u001b[0m\u001b[1;33m.\u001b[0m\u001b[0mfindContours\u001b[0m\u001b[1;33m(\u001b[0m\u001b[0mimg_bin\u001b[0m\u001b[1;33m,\u001b[0m \u001b[0mcv2\u001b[0m\u001b[1;33m.\u001b[0m\u001b[0mRETR_TREE\u001b[0m\u001b[1;33m,\u001b[0m \u001b[0mcv2\u001b[0m\u001b[1;33m.\u001b[0m\u001b[0mCHAIN_APPROX_SIMPLE\u001b[0m\u001b[1;33m)\u001b[0m\u001b[1;33m\u001b[0m\u001b[0m\n\u001b[0m\u001b[0;32m      4\u001b[0m \u001b[1;33m\u001b[0m\u001b[0m\n\u001b[0;32m      5\u001b[0m \u001b[1;31m# Defining a kernel length\u001b[0m\u001b[1;33m\u001b[0m\u001b[1;33m\u001b[0m\u001b[0m\n",
      "\u001b[1;31merror\u001b[0m: OpenCV(4.2.0) C:\\projects\\opencv-python\\opencv\\modules\\imgproc\\src\\contours.cpp:197: error: (-210:Unsupported format or combination of formats) [Start]FindContours supports only CV_8UC1 images when mode != CV_RETR_FLOODFILL otherwise supports CV_32SC1 images only in function 'cvStartFindContours_Impl'\n"
     ]
    }
   ],
   "source": [
    "img_bin = 255 - img_bin\n",
    "\n",
    "sub_contours, sub_hierarchy = cv2.findContours(img_bin, cv2.RETR_TREE, cv2.CHAIN_APPROX_SIMPLE)  \n",
    "\n",
    "# Defining a kernel length\n",
    "kernel_length = np.array(img).shape[1]//80\n",
    " \n",
    "\n",
    "# Morphological operation to detect vertical lines from an image\n",
    "img_temp1 = cv2.erode(img_bin, verticle_kernel, iterations=3)\n",
    "verticle_lines_img = cv2.dilate(img_temp1, verticle_kernel, iterations=3)\n",
    "# cv2.imwrite(\"verticle_lines.jpg\",verticle_lines_img)\n",
    "# Morphological operation to detect horizontal lines from an image\n",
    "img_temp2 = cv2.erode(img_bin, hori_kernel, iterations=3)\n",
    "horizontal_lines_img = cv2.dilate(img_temp2, hori_kernel, iterations=3)\n",
    "# cv2.imwrite(\"horizontal_lines.jpg\",horizontal_lines_img)\n",
    "\n",
    "# Weighting parameters, this will decide the quantity of an image to be added to make a new image.\n",
    "alpha = 0.5\n",
    "beta = 1.0 - alpha\n",
    "# This function helps to add two image with specific weight parameter to get a third image as summation of two image.\n",
    "img_final_bin = cv2.addWeighted(verticle_lines_img, alpha, horizontal_lines_img, beta, 0.0)\n",
    "img_final_bin = cv2.erode(~img_final_bin, kernel, iterations=2)\n",
    "(thresh, img_final_bin) = cv2.threshold(img_final_bin, 128,255, cv2.THRESH_BINARY, cv2.THRESH_OTSU)\n",
    "cv2.imwrite(\"img_final_bin.jpg\",img_final_bin)\n",
    "\n",
    "# Weighting parameters, this will decide the quantity of an image to be added to make a new image.\n",
    "alpha = 0.5\n",
    "beta = 1.0 - alpha\n",
    "# This function helps to add two image with specific weight parameter to get a third image as summation of two image.\n",
    "img_final_bin = cv2.addWeighted(verticle_lines_img, alpha, horizontal_lines_img, beta, 0.0)\n",
    "img_final_bin = cv2.erode(~img_final_bin, kernel, iterations=2)\n",
    "(thresh, img_final_bin) = cv2.threshold(img_final_bin, 128,255, cv2.THRESH_BINARY, cv2.THRESH_OTSU)\n",
    "cv2.imwrite(\"img_final_bin.jpg\",img_final_bin)\n",
    "\n",
    "# cv2.imshow('Contours', edges) \n",
    "# cv2.waitKey(0) "
   ]
  }
 ],
 "metadata": {
  "kernelspec": {
   "display_name": "Python 3",
   "language": "python",
   "name": "python3"
  },
  "language_info": {
   "codemirror_mode": {
    "name": "ipython",
    "version": 3
   },
   "file_extension": ".py",
   "mimetype": "text/x-python",
   "name": "python",
   "nbconvert_exporter": "python",
   "pygments_lexer": "ipython3",
   "version": "3.6.6"
  }
 },
 "nbformat": 4,
 "nbformat_minor": 2
}
