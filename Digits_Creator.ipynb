{
 "cells": [
  {
   "cell_type": "code",
   "execution_count": 61,
   "metadata": {},
   "outputs": [
    {
     "name": "stdout",
     "output_type": "stream",
     "text": [
      "6 11\n"
     ]
    }
   ],
   "source": [
    "from PIL import Image, ImageDraw, ImageFont\n",
    "\n",
    "W, H = (255,255)\n",
    "\n",
    "text = \"1\"\n",
    "\n",
    "# font = ImageFont.truetype(\"arial.ttf\", 255, encoding=\"unic\")\n",
    "\n",
    "myFont = ImageFont.truetype(\"arial.ttf\", 180)\n",
    "#draw.textsize(text, font=myFont)\n",
    "\n",
    "#text_width, text_height = font.getsize(unicode_text)\n",
    "# canvas = Image.new('RGB', (text_width + 100, text_height + 50), \"black\")\n",
    "canvas = Image.new('RGB', (W, H), \"black\")\n",
    "draw = ImageDraw.Draw(canvas)\n",
    "w, h = draw.textsize(text)\n",
    "\n",
    "print(w, h)\n",
    "\n",
    "#draw.text(((W-w)/2,(H-h)/2), text, fill=\"white\", font=myFont)\n",
    "\n",
    "#draw.text(((W)/2,(H)/2), text, fill=\"white\", font=myFont)\n",
    "draw.text(xy=((W-w)*0.4, (H-h)*0.1), text = text, font=myFont)\n",
    "#draw.text((5, 5), text, 'white', myFont)\n",
    "\n",
    "#canvas.save(\"unicode-text.png\", \"PNG\")\n",
    "canvas.show()"
   ]
  },
  {
   "cell_type": "code",
   "execution_count": 28,
   "metadata": {},
   "outputs": [],
   "source": [
    "from PIL import Image, ImageDraw\n",
    "\n",
    "W, H = (300,200)\n",
    "msg = \"hello\"\n",
    "\n",
    "im = Image.new(\"RGBA\",(W,H),\"yellow\")\n",
    "draw = ImageDraw.Draw(im)\n",
    "w, h = draw.textsize(msg)\n",
    "draw.text(((W-w)/2,(H-h)/2), msg, fill=\"black\")\n",
    "\n",
    "im.save(\"hello.png\", \"PNG\")"
   ]
  }
 ],
 "metadata": {
  "kernelspec": {
   "display_name": "Python 3",
   "language": "python",
   "name": "python3"
  },
  "language_info": {
   "codemirror_mode": {
    "name": "ipython",
    "version": 3
   },
   "file_extension": ".py",
   "mimetype": "text/x-python",
   "name": "python",
   "nbconvert_exporter": "python",
   "pygments_lexer": "ipython3",
   "version": "3.6.6"
  }
 },
 "nbformat": 4,
 "nbformat_minor": 2
}
